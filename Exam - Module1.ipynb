{
 "cells": [
  {
   "cell_type": "markdown",
   "metadata": {},
   "source": [
    "### Number 1"
   ]
  },
  {
   "cell_type": "code",
   "execution_count": 1,
   "metadata": {},
   "outputs": [
    {
     "name": "stdout",
     "output_type": "stream",
     "text": [
      "Input String:Hello there how are you doing\n",
      "#HelloThereHowAreYouDoing"
     ]
    }
   ],
   "source": [
    "string = input(\"Input String:\")\n",
    "def Hashtag(string):\n",
    "    string1 = string.title()\n",
    "    string2 = string1.replace(\" \", \"\")\n",
    "    list_str = list(string2)\n",
    "    list_str.insert(0, \"#\")\n",
    "    for i in list_str:\n",
    "        if len(list_str) > 140 or len(list_str) == 0:\n",
    "            print(\"False input\")\n",
    "        else:\n",
    "            print(i, end = \"\")\n",
    "    \n",
    "Hashtag(string)\n",
    "\n"
   ]
  },
  {
   "cell_type": "code",
   "execution_count": 3,
   "metadata": {},
   "outputs": [
    {
     "name": "stdout",
     "output_type": "stream",
     "text": [
      "Input String:   Hello World\n",
      "#HelloWorld"
     ]
    }
   ],
   "source": [
    "string = input(\"Input String:\")\n",
    "def Hashtag(string):\n",
    "    string1 = string.title()\n",
    "    string2 = string1.replace(\" \", \"\")\n",
    "    list_str = list(string2)\n",
    "    list_str.insert(0, \"#\")\n",
    "    for i in list_str:\n",
    "        if len(list_str) > 140 or len(list_str) == 0:\n",
    "            print(\"False input\")\n",
    "        else:\n",
    "            print(i, end = \"\")\n",
    "    \n",
    "Hashtag(string)"
   ]
  },
  {
   "cell_type": "code",
   "execution_count": 9,
   "metadata": {},
   "outputs": [
    {
     "name": "stdout",
     "output_type": "stream",
     "text": [
      "Input String:xxxxxxxxxxxxxxxxxxxxxxxxxxxxxxxxxxxxxxxxxxxxxxxxxxxxxxxxxxxxxxxxxxxxxxxxxxxxxxxxxxxxxxxxxxxxxxxxxxxxxxxxxxxxxxxxxxxxxxxxxxxxxxxxxxxxxxxxxxxxxxxxxxxxxxxxxxxxxxxxxxxxxxxxxxxxxxxxxxxxxxxxxxxxxxxxxxxxxxxxxxxxxxxxxx\n"
     ]
    },
    {
     "data": {
      "text/plain": [
       "False"
      ]
     },
     "execution_count": 9,
     "metadata": {},
     "output_type": "execute_result"
    }
   ],
   "source": [
    "string = input(\"Input String:\")\n",
    "def Hashtag(string):\n",
    "    string1 = string.title()\n",
    "    string2 = string1.replace(\" \", \"\")\n",
    "    list_str = list(string2)\n",
    "    list_str.insert(0, \"#\")\n",
    "    for i in list_str:\n",
    "        if len(list_str) > 140 or len(list_str) == 0:\n",
    "            return False\n",
    "        else:\n",
    "            print(i, end = \"\")\n",
    "    \n",
    "Hashtag(string)"
   ]
  },
  {
   "cell_type": "markdown",
   "metadata": {},
   "source": [
    "### Number 2"
   ]
  },
  {
   "cell_type": "code",
   "execution_count": 14,
   "metadata": {},
   "outputs": [
    {
     "name": "stdout",
     "output_type": "stream",
     "text": [
      "(123) 456-7890\n"
     ]
    }
   ],
   "source": [
    "def create_phone_number(number):\n",
    "    list1 = []\n",
    "    for i in number:\n",
    "        list1.append(\"\".join(str(i)))\n",
    "    \n",
    "    str_1 = list1\n",
    "    first = \"\".join(str_1[0:3])\n",
    "    mid = \"\".join(str_1[3:6])\n",
    "    last = \"\".join(str_1[6:10])\n",
    "    \n",
    "    print(\"({}) {}-{}\".format(first, mid, last))\n",
    "    \n",
    "create_phone_number([1,2,3,4,5,6,7,8,9,0])"
   ]
  },
  {
   "cell_type": "markdown",
   "metadata": {},
   "source": [
    "### Number 3"
   ]
  },
  {
   "cell_type": "code",
   "execution_count": 112,
   "metadata": {},
   "outputs": [
    {
     "name": "stdout",
     "output_type": "stream",
     "text": [
      "[1, 3, 8, 4, 5, 2]\n"
     ]
    }
   ],
   "source": [
    "even = []\n",
    "odd = []\n",
    "\n",
    "def sort_odd_even(numbers):\n",
    "    for i in numbers:\n",
    "        if i % 2 == 0:\n",
    "            even.append(i)\n",
    "        else:\n",
    "            odd.append(i)\n",
    "    for k in range(len(even)-1):\n",
    "                if even[k] < even[k+1]:\n",
    "                    temp2 = even[k+1]\n",
    "                    even[k+1] = even[k]\n",
    "                    even[k] = temp2\n",
    "    for j in range(len(odd)):\n",
    "        for u in range(len(odd)-1):\n",
    "                if odd[u] > odd[u+1]:\n",
    "                    temp2 = odd[u]\n",
    "                    odd[u] = odd[u+1]\n",
    "                    odd[u+1] = temp2 \n",
    "    combine = odd + even\n",
    "    combine[2], combine[3] = combine[3], combine[2]\n",
    "    combine[4], combine[3] = combine[3], combine[4]\n",
    "    \n",
    "    return combine\n",
    "    \n",
    "print(sort_odd_even([5,3,2,8,1,4,]))"
   ]
  },
  {
   "cell_type": "code",
   "execution_count": null,
   "metadata": {},
   "outputs": [],
   "source": []
  }
 ],
 "metadata": {
  "kernelspec": {
   "display_name": "Python 3",
   "language": "python",
   "name": "python3"
  },
  "language_info": {
   "codemirror_mode": {
    "name": "ipython",
    "version": 3
   },
   "file_extension": ".py",
   "mimetype": "text/x-python",
   "name": "python",
   "nbconvert_exporter": "python",
   "pygments_lexer": "ipython3",
   "version": "3.7.6"
  }
 },
 "nbformat": 4,
 "nbformat_minor": 4
}
